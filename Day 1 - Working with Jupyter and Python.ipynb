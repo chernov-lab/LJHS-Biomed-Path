{
 "cells": [
  {
   "cell_type": "markdown",
   "metadata": {},
   "source": [
    "# Investigating evolutionary relationships of protein sequences\n",
    "\n",
    "## Dr. Andrei Chernov\n",
    "## University of California San Diego\n",
    "#### February, 2022. Version 01\n",
    "***\n",
    "\n",
    "Scientists often deal with large datasets stored in online depositories or databases that frequently contain redundant information. \n",
    "\n",
    "If we run a BLAST search to identify a protein sequence, we obtain 100s of sequences. \n",
    "In many cases this is more than we need, and we have to weed \"Big Data\" to extract meaningful results. \n",
    "\n",
    "Protein and nucleotide sequences are rich with information that evolutionary relationships between proteins using Big Data. Processing large datasets often requires specialized software packages. \n",
    "\n",
    "The goals of this exercise are to:\n",
    "\n",
    "    * Learn to navigate Jupyter Notebooks in the Binder.org environment \n",
    "    * Learn where to find protein sequences\n",
    "    * Learn about FASTA sequence files\n",
    "    * Be able to handle, filter, and clean large sequence datasets\n",
    "    * Learn about the sequence alignment tool (BLAST)\n",
    "    * Create interactive sequence similarity networks\n",
    "    * Generate new knowledge using sequence similarity networks \n",
    "\n",
    "This Notebook will give a brief overview of running and editing Jupyter Notebooks and the Python programming language.\n",
    "\n",
    "***"
   ]
  },
  {
   "cell_type": "markdown",
   "metadata": {},
   "source": [
    "# Part A\n",
    "## A (very) brief introduction to Jupyter Notebooks and Python Programming Language\n",
    "\n",
    "Jupyter notebooks: \n",
    "    Provide an interactive, web-based programming environment that are easy to use in a classroom or lab\n",
    "    Give instant access to a variety of Big Data programming tools \n",
    "Include narrative sections (markdown). \n",
    "***"
   ]
  },
  {
   "cell_type": "markdown",
   "metadata": {},
   "source": [
    "By default Jupyter notebook is based on the Python 3 programming language. \n",
    "\n",
    "This is an example of the Python code:\n",
    "\n",
    "~~~python\n",
    "print(\"Hello, LJHS Biomed Path!\")\n",
    "~~~\n",
    "\n",
    "<font color=blue><b>STEP 1:</b></font> Copy and paste the above code into the code box below. The code box starts with [ ]:\n",
    "\n",
    "Run the code using the Run button or shift+return. You should see some output appear below the box.\n",
    "\n",
    "While the code is running you will see an asterisk appear in the brackets, e.g.: [\\*]. When it is completed, a number appears, e.g. [1]."
   ]
  },
  {
   "cell_type": "code",
   "execution_count": null,
   "metadata": {},
   "outputs": [],
   "source": []
  },
  {
   "cell_type": "markdown",
   "metadata": {},
   "source": [
    "Admittedly, this is some boring code, so why not spice it up? \n",
    "\n",
    "<font color=blue><b>STEP 2:</b></font> Edit the code box above to print your name at the end of the statement. For example, I might want it to say \"This is some python code, Wally.\" You can change anything in between the quotes. When you rerun the code (either with the Run button or the shift+return) you will see the new output below that box and the number in brackets on that line increments by 1.\n",
    "\n",
    "If this is your first time writing and running some Python code, congratulations! \n",
    "\n",
    "Let's try copying and pasting some slightly more complicated code into the code box below.\n",
    "\n",
    "~~~python\n",
    "for i in range(3):\n",
    "    print(\"Python and Jupyter are awesome!\")\n",
    "~~~\n",
    "\n",
    "This code creates a loop and runs the print statement over the range given.\n",
    "\n",
    "Go ahead and run it."
   ]
  },
  {
   "cell_type": "code",
   "execution_count": null,
   "metadata": {},
   "outputs": [],
   "source": []
  },
  {
   "cell_type": "markdown",
   "metadata": {},
   "source": [
    "If this is your first time writing and running some Python code, congratulations! \n",
    "\n",
    "Now, lets introduce the **random** function\n",
    "\n",
    "<font color=blue><b>STEP 3:</b></font> Edit the code to find out how long it takes to print a meaningful sentence from random words. For example, I might want to say \"how cute is Python!\" by shuffling the words. When you rerun the code (either with the Run button or the shift+return) you will see the new sentenses repeated the number of times shown in brackets.\n",
    "\n",
    "Let's try copying and pasting some slightly more complicated code into the code box below.\n",
    "\n",
    "~~~python\n",
    "import random\n",
    "\n",
    "sentence = \"is cute how Python\"\n",
    "print(sentence)\n",
    "\n",
    "for i in range(4):\n",
    "    words = sentence.split()\n",
    "    random.shuffle(words)\n",
    "    new_sentence = ' '.join(words) + '!'\n",
    "    print(new_sentence)\n",
    "~~~\n",
    "\n",
    "This code creates a loop and runs the print statement over the range given in parentheses.\n",
    "\n",
    "Go ahead and run it."
   ]
  },
  {
   "cell_type": "code",
   "execution_count": null,
   "metadata": {},
   "outputs": [],
   "source": []
  },
  {
   "cell_type": "markdown",
   "metadata": {},
   "source": [
    "<font color=blue><b>STEP 4:</b></font> On to the Science! - Now we want to see how protein sequences evolve\n",
    "\n",
    "Edit the code box to print. For example, I might want it to say \"This is some python code, Wally.\" You can change anything in between the quotes. When you rerun the code (either with the Run button or the shift+return) you will see the new output below that box and the number in brackets on that line increments by 1.\n",
    "\n",
    "If this is your first time writing and running some Python code, congratulations! \n",
    "\n",
    "Let's try copying and pasting some slightly more complicated code into the code box below.\n",
    "\n",
    "~~~python\n",
    "import random\n",
    "protein = \"GATRHFFKSPPQWRIND\"\n",
    "print(protein)\n",
    "\n",
    "for i in range(4):\n",
    "    words = list(protein)\n",
    "    random.shuffle(words)\n",
    "    new_protein = ' '.join(words)\n",
    "    print(new_protein)\n",
    "~~~\n",
    "\n",
    "This code creates a loop and runs the print statement over the range given.\n",
    "\n",
    "Go ahead and run it."
   ]
  },
  {
   "cell_type": "code",
   "execution_count": null,
   "metadata": {},
   "outputs": [],
   "source": []
  },
  {
   "cell_type": "markdown",
   "metadata": {},
   "source": [
    "<font color=blue><b>STEP 5:</b></font> Now we want to find out how long it takes for a random DNA sequence to mutate into a meaningful sequence\n",
    "\n",
    "Edit the code box above to print your name at the end of the statement. For example, I might want it to say \"This is some python code, Wally.\" You can change anything in between the quotes. When you rerun the code (either with the Run button or the shift+return) you will see the new output below that box and the number in brackets on that line increments by 1.\n",
    "\n",
    "If this is your first time writing and running some Python code, congratulations! \n",
    "\n",
    "Let's try copying and pasting some slightly more complicated code into the code box below.\n",
    "\n",
    "~~~python\n",
    "import random\n",
    "seq = \"GATC\"\n",
    "print('The DNA sequence is ' + seq)\n",
    "n = 0\n",
    "for i in range(4):\n",
    "    n += 1\n",
    "    words = list(seq)\n",
    "    random.shuffle(words)\n",
    "    new_seq = ''.join(words)\n",
    "    if new_seq == seq:\n",
    "        print(n)\n",
    "    else: \n",
    "        print(\".\", end='')\n",
    "~~~\n",
    "\n",
    "This code creates a loop and runs the print statement over the range given.\n",
    "\n",
    "Go ahead and run it."
   ]
  },
  {
   "cell_type": "code",
   "execution_count": 4,
   "metadata": {},
   "outputs": [
    {
     "name": "stdout",
     "output_type": "stream",
     "text": [
      "The DNA sequence is GATC\n",
      ".2\n",
      "..............17\n",
      "......................."
     ]
    }
   ],
   "source": [
    "import random\n",
    "seq = \"GATC\"\n",
    "print('The DNA sequence is ' + seq)\n",
    "n = 0\n",
    "for i in range(40):\n",
    "    n += 1\n",
    "    words = list(seq)\n",
    "    random.shuffle(words)\n",
    "    new_seq = ''.join(words)\n",
    "    if new_seq == seq:\n",
    "        print(n)\n",
    "    else: \n",
    "        print(\".\", end='')"
   ]
  },
  {
   "cell_type": "markdown",
   "metadata": {},
   "source": [
    "<font color=blue><b>STEP 6:</b></font> Change the range in the code above to 10, 100, 1000 and run it again.\n",
    "\n",
    "<font color=blue><b>STEP 7:</b></font> Change the DNA sequence by adding additional letters. Note the number of iterations it takes to mutate longer DNA sequences \n",
    "\n",
    "***\n",
    "\n",
    "These simple exercises serve two purposes (I hope). Namely that you can...\n",
    "* Run working code with minimal guidance!\n",
    "* Edit Jupyter notebooks to tailor your exercises to your own needs!\n",
    "\n",
    "***"
   ]
  },
  {
   "cell_type": "markdown",
   "metadata": {},
   "source": [
    "## Why we use Binder?\n",
    "\n",
    "We are running this Jupter notebook in Binder, a <i> remote </i> environment that I have set up. In this environment all the needed software is already installed, and we can easily upload files to work with! Check out more at https://mybinder.org.\n",
    "\n",
    "While it is possible to install most of this software on your computers, it can be very difficult to get everything working. Also, many of us want to do or teach the science, so figuring out how to install all the software is not a good use of our time. \n",
    "***\n",
    "\n",
    "## Some important tips for using Jupyter Notebooks in Binder\n",
    "\n",
    "    1. Please ensure the code in a cell has finished running before moving on to the next one!\n",
    "    2. If you accidentally delete or mangle some code, use the Edit -> Undo function!\n",
    "    3. If you need to stop some code from running in a cell use the Stop button (next to the Run button).\n",
    "    4. If you don't interact with Binder for too long, you may lose the Kernel and need to restart it. \n",
    "    5. If you are away for a long time, then you may need to relaunch your Binder - which means you might need to regenerate any data that you did not download!\n",
    "***\n"
   ]
  },
  {
   "cell_type": "markdown",
   "metadata": {},
   "source": [
    "# Part B\n",
    "## Investigating evolutionary relationships through sequence and cluster analysis!\n",
    "## Importing some sequence data!\n",
    "\n",
    "In this Jupyter Notebook you will obtain a set of Myelin Basic Protein (MBP) sequences from different organisms from the Uniprot database. \n",
    "\n",
    "You will process these sequences to create an amino acid sequence alignment to examine relationships among MBP proteins. \n",
    "\n",
    "<font color=blue><b>STEP B1:</b></font> First, we will retrieve and upload a set of Myelin Basic Protein sequences from Uniprot. \n",
    "\n",
    "Click this link to head to https://uniprot.org in a new browser window.\n",
    "\n",
    "***\n",
    "At the uniprot site\n",
    "\n",
    "<font color=blue><b>STEP B2:</b></font> Type **Myelin Basic Protein** in the search bar and hit return.\n",
    "\n",
    "<font color=blue><b>STEP B3:</b></font> Explore the results and consider these questions:\n",
    "\n",
    "    1. How many results did you get from this search?\n",
    "    2. How many results are reviewed?\n",
    "    3. How many sequences are unreviewed?\n",
    "\n",
    "Hopefully you found over 6,000 total sequences. I would certainly call this <b>BIG DATA</b> - way too many sets to look at manually!\n",
    "\n",
    "<font color=blue><b>STEP B4:</b></font> Near the **Search** button click on the **Advanced** button. Let's add additional search fields to narrow down the results. \n",
    "\n",
    "Choose Term **Protein name [DE]** and enter **Myelin Basic Protein**. Click **+**\n",
    "\n",
    "Choose Term **Entry Name [ID]** and enter <b>MBP_*</b>\n",
    "\n",
    "Optional: Choose Term **Reviewed** if the number of sequences is above 25.\n",
    "    \n",
    "<br><img src=\"images/Uniprot_MBP_Advanced_Search.png\" width=400>\n",
    "\n",
    "<font color=blue><b>STEP B5:</b></font> Near the top of the sequences you will see the **download** button. Ensure <b>uncompressed</b> is checked and download all the sequences in FASTA format. Rename the downloaded file as *uniprot_mbp.fasta* (or use other protein name you searched for instead of *mbp*).\n",
    "\n",
    "Note where this file is being saved on **your** computer, we will need to upload it to the Binder environment next.\n",
    "<br><img src=\"images/Uniprot_MBP_Download.png\" width=400>\n",
    "\n",
    "<font color=blue><b>STEP B6:</b></font> Upload FASTA file to the *Binder* environment. In the files panel at the left, double click the *files* folder to open it. <br> Now you may either drag the uniprot_mbp.fasta file from your computer folder into the Binder folder or click the Upload files button that looks like this:<img src=\"images/upload.png\" width=50>\n",
    "***"
   ]
  },
  {
   "cell_type": "markdown",
   "metadata": {},
   "source": [
    "<font color=blue><b>STEP B7:</b></font> As the fasta file is simply a text file, you can double click it in the files panel and it will display the contents in a new window.\n",
    "\n",
    "You should see that each sequence record in the fasta formatted file starts with a '>' and that the first line contains identifying information. The following lines are the protein sequence in single letter amino acid code. \n",
    "\n",
    "<font color=blue><b>STEP B8:</b></font> Answer these questions:\n",
    "\n",
    "    1. From which organism is the first protein?\n",
    "    2. From which organism is the second protein?"
   ]
  },
  {
   "cell_type": "markdown",
   "metadata": {},
   "source": [
    "So far we have learned how to enter and edit Python code in a Jupyter notebook. We have also learned to upload a file and even looked at the first few lines of a very large sequence file.\n",
    "\n",
    "***\n",
    "## Making a multiple alignment of sequences\n",
    "\n",
    "We can learn alot by aligning sequences and examining positions that are conserved. Just as an introduction, we will make an alignment of MBP proteins using the Clustal Omega on the command line. More about Clustal Omega can be found here: http://www.clustal.org/omega/.\n",
    "\n",
    "<font color=blue><b>STEP B9:</b></font> Run the code below to align the fasta file containing knowns in an msf (multiple sequence format) file. (*Do not forget to change names of FASTA and MSF files if other protein is analyzed*) \n",
    "\n",
    "~~~Python\n",
    "!clustalo -i files/uniprot_mbp.fasta --outfmt='msf' -o files/uniprot_mbp.msf\n",
    "~~~"
   ]
  },
  {
   "cell_type": "code",
   "execution_count": 2,
   "metadata": {},
   "outputs": [
    {
     "name": "stdout",
     "output_type": "stream",
     "text": [
      "zsh:1: command not found: clustalo\n"
     ]
    }
   ],
   "source": []
  },
  {
   "cell_type": "markdown",
   "metadata": {},
   "source": [
    "<font color=blue><b>STEP B10:</b></font> Find the uniprot_mbp.msf file in the files tab and double click on it to open it. The symbol '~' indicates that a particular sequence does not have additional amino acids at the N or C terminus. A '.' means there is no amino acid in that sequence at that position, also called a gap. \n",
    "\n",
    "<font color=blue><b>STEP B11:</b></font> Use the msf to answer the following questions:\n",
    "\n",
    "    1. Which sequences appear most similar to each other?\n",
    "    2. If you had to pick one that is the most different, which would it be and why?\n",
    "\n",
    "***\n",
    "## Congratulations, you have finished the first notebook in this exercise!\n",
    "\n",
    "<font color=blue><b>STEP B12:</b></font> Open Notebook \"2 - Sequences_and_BLAST\" by double clicking on the file in the left hand panel. The code cells in 2 - Sequences_and_BLAST already have the needed code, to keep you engaged and on your toes, you will have to edit that code in specific (and hopefully clearly annotated) ways.\n"
   ]
  },
  {
   "cell_type": "code",
   "execution_count": null,
   "metadata": {},
   "outputs": [],
   "source": []
  },
  {
   "cell_type": "code",
   "execution_count": null,
   "metadata": {},
   "outputs": [],
   "source": []
  },
  {
   "cell_type": "code",
   "execution_count": null,
   "metadata": {},
   "outputs": [],
   "source": []
  }
 ],
 "metadata": {
  "kernelspec": {
   "display_name": "Python 3 (ipykernel)",
   "language": "python",
   "name": "python3"
  },
  "language_info": {
   "codemirror_mode": {
    "name": "ipython",
    "version": 3
   },
   "file_extension": ".py",
   "mimetype": "text/x-python",
   "name": "python",
   "nbconvert_exporter": "python",
   "pygments_lexer": "ipython3",
   "version": "3.9.10"
  }
 },
 "nbformat": 4,
 "nbformat_minor": 4
}
