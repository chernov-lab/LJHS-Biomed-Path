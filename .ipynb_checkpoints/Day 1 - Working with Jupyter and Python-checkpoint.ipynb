{
 "cells": [
  {
   "cell_type": "markdown",
   "metadata": {},
   "source": [
    "# Investigating evolutionary relationships of protein sequences\n",
    "\n",
    "## Dr. Andrei Chernov\n",
    "## University of California San Diego\n",
    "#### February, 2022. Version 01\n",
    "***\n",
    "\n",
    "Scientists often deal with large datasets stored in online depositories or databases that frequently contain redundant information. \n",
    "\n",
    "If we run a BLAST search to identify a protein sequence, we obtain 100s of sequences. \n",
    "In many cases this is more than we need, and we have to weed \"Big Data\" to extract meaningful results. \n",
    "\n",
    "Protein and nucleotide sequences are rich with information that evolutionary relationships between proteins using Big Data. Processing large datasets often requires specialized software packages. \n",
    "\n",
    "The goals of this exercise are to:\n",
    "\n",
    "    * Learn to navigate Jupyter Notebooks in the Binder.org environment \n",
    "    * Learn where to find protein sequences\n",
    "    * Learn about FASTA sequence files\n",
    "    * Be able to handle, filter, and clean large sequence datasets\n",
    "    * Learn about the sequence alignment tool (BLAST)\n",
    "    * Create interactive sequence similarity networks\n",
    "    * Generate new knowledge using sequence similarity networks \n",
    "\n",
    "This Notebook will give a brief overview of running and editing Jupyter Notebooks and the Python programming language.\n",
    "\n",
    "***"
   ]
  },
  {
   "cell_type": "markdown",
   "metadata": {},
   "source": [
    "# Part A\n",
    "## A (very) brief introduction to Jupyter Notebooks and Python Programming Language\n",
    "\n",
    "Jupyter notebooks: \n",
    "    Provide an interactive, web-based programming environment that are easy to use in a classroom or lab\n",
    "    Give instant access to a variety of Big Data programming tools \n",
    "Include narrative sections (markdown). \n",
    "***"
   ]
  },
  {
   "cell_type": "markdown",
   "metadata": {},
   "source": [
    "By default Jupyter notebook is based on the Python 3 programming language. \n",
    "\n",
    "This is an example of the Python code:\n",
    "\n",
    "~~~python\n",
    "print(\"Hello, LJHS Biomed Path!\")\n",
    "~~~\n",
    "\n",
    "<font color=blue><b>STEP 1:</b></font> Copy and paste the above code into the code box below. The code box starts with [ ]:\n",
    "\n",
    "Run the code using the Run button or shift+return. You should see some output appear below the box.\n",
    "\n",
    "While the code is running you will see an asterisk appear in the brackets, e.g.: [\\*]. When it is completed, a number appears, e.g. [1]."
   ]
  },
  {
   "cell_type": "code",
   "execution_count": null,
   "metadata": {},
   "outputs": [],
   "source": []
  },
  {
   "cell_type": "markdown",
   "metadata": {},
   "source": [
    "Admittedly, this is some boring code, so why not spice it up? \n",
    "\n",
    "<font color=blue><b>STEP 2:</b></font> Edit the code box above to print your name at the end of the statement. For example, I might want it to say \"This is some python code, Wally.\" You can change anything in between the quotes. When you rerun the code (either with the Run button or the shift+return) you will see the new output below that box and the number in brackets on that line increments by 1.\n",
    "\n",
    "If this is your first time writing and running some Python code, congratulations! \n",
    "\n",
    "Let's try copying and pasting some slightly more complicated code into the code box below.\n",
    "\n",
    "~~~python\n",
    "for i in range(3):\n",
    "    print(\"Python and Jupyter are awesome!\")\n",
    "~~~\n",
    "\n",
    "This code creates a loop and runs the print statement over the range given.\n",
    "\n",
    "Go ahead and run it."
   ]
  },
  {
   "cell_type": "code",
   "execution_count": null,
   "metadata": {},
   "outputs": [],
   "source": []
  },
  {
   "cell_type": "markdown",
   "metadata": {},
   "source": [
    "If this is your first time writing and running some Python code, congratulations! \n",
    "\n",
    "Now, lets introduce the **random** function\n",
    "\n",
    "<font color=blue><b>STEP 3:</b></font> Edit the code to find out how long it takes to print a meaningful sentence from random words. For example, I might want to say \"how cute is Python!\" by shuffling the words. When you rerun the code (either with the Run button or the shift+return) you will see the new sentenses repeated the number of times shown in brackets.\n",
    "\n",
    "Let's try copying and pasting some slightly more complicated code into the code box below.\n",
    "\n",
    "~~~python\n",
    "import random\n",
    "\n",
    "sentence = \"is cute how Python\"\n",
    "print(sentence)\n",
    "\n",
    "for i in range(4):\n",
    "    words = sentence.split()\n",
    "    random.shuffle(words)\n",
    "    new_sentence = ' '.join(words) + '!'\n",
    "    print(new_sentence)\n",
    "~~~\n",
    "\n",
    "This code creates a loop and runs the print statement over the range given in parentheses.\n",
    "\n",
    "Go ahead and run it."
   ]
  },
  {
   "cell_type": "code",
   "execution_count": null,
   "metadata": {},
   "outputs": [],
   "source": []
  },
  {
   "cell_type": "markdown",
   "metadata": {},
   "source": [
    "<font color=blue><b>STEP 4:</b></font> **On to the Science!** - Now we want to see how protein sequences evolve\n",
    "\n",
    "Let's try copying and pasting some slightly more complicated code into the code box below.\n",
    "\n",
    "Now, instead of a human language words we have the amino acid sequence of a protein \"GATRHFFKSPPQWRIND\" in which each letter corresponds to an amino acid residue (1-letter code).\n",
    "\n",
    "~~~python\n",
    "import random\n",
    "protein = \"GATRHFFKSPPQWRIND\"\n",
    "print(protein)\n",
    "\n",
    "for i in range(4):\n",
    "    words = list(protein)\n",
    "    random.shuffle(words)\n",
    "    new_protein = ' '.join(words)\n",
    "    print(new_protein)\n",
    "~~~\n",
    "\n",
    "This code creates a loop and runs the print statement over the range given.\n",
    "\n",
    "Go ahead and run it."
   ]
  },
  {
   "cell_type": "code",
   "execution_count": null,
   "metadata": {},
   "outputs": [],
   "source": []
  },
  {
   "cell_type": "markdown",
   "metadata": {},
   "source": [
    "<font color=blue><b>STEP 5:</b></font> Now we want to find out how long it takes for a random DNA sequence to mutate into a meaningful sequence\n",
    "\n",
    "Edit the code box above to print your name at the end of the statement. For example, I might want it to say \"This is some python code, Wally.\" You can change anything in between the quotes. When you rerun the code (either with the Run button or the shift+return) you will see the new output below that box and the number in brackets on that line increments by 1.\n",
    "\n",
    "If this is your first time writing and running some Python code, congratulations! \n",
    "\n",
    "Let's try copying and pasting some slightly more complicated code into the code box below.\n",
    "\n",
    "~~~python\n",
    "import random\n",
    "seq = \"GATC\"\n",
    "print('The DNA sequence is ' + seq)\n",
    "n = 0\n",
    "for i in range(4):\n",
    "    n += 1\n",
    "    words = list(seq)\n",
    "    random.shuffle(words)\n",
    "    new_seq = ''.join(words)\n",
    "    if new_seq == seq:\n",
    "        print(n)\n",
    "        break\n",
    "    else: \n",
    "        print(\".\", end='')\n",
    "~~~\n",
    "\n",
    "This code creates a loop and runs the print statement over the range given.\n",
    "\n",
    "Go ahead and run it."
   ]
  },
  {
   "cell_type": "code",
   "execution_count": 7,
   "metadata": {},
   "outputs": [
    {
     "name": "stdout",
     "output_type": "stream",
     "text": [
      "The DNA sequence is GATC\n",
      "...."
     ]
    }
   ],
   "source": [
    "import random\n",
    "seq = \"GATC\"\n",
    "print('The DNA sequence is ' + seq)\n",
    "n = 0\n",
    "for i in range(4):\n",
    "    n += 1\n",
    "    words = list(seq)\n",
    "    random.shuffle(words)\n",
    "    new_seq = ''.join(words)\n",
    "    if new_seq == seq:\n",
    "        print(n)\n",
    "        break\n",
    "    else: \n",
    "        print(\".\", end='')"
   ]
  },
  {
   "cell_type": "markdown",
   "metadata": {},
   "source": [
    "<font color=blue><b>STEP 6:</b></font> Change the range in the code above to 10, 100, 1000 and run it again.\n",
    "\n",
    "<font color=blue><b>STEP 7:</b></font> Change the DNA sequence by adding additional letters. Note the number of iterations it takes to mutate longer DNA sequences \n",
    "\n",
    "***\n",
    "\n",
    "These simple exercises serve two purposes (I hope). Namely that you can...\n",
    "* Run working code with minimal guidance!\n",
    "* Edit Jupyter notebooks to tailor your exercises to your own needs!\n",
    "\n",
    "***"
   ]
  },
  {
   "cell_type": "markdown",
   "metadata": {},
   "source": [
    "## Why we use Binder?\n",
    "\n",
    "We are running this Jupter notebook in Binder, a <i> remote </i> environment that I have set up. In this environment all the needed software is already installed, and we can easily upload files to work with! Check out more at https://mybinder.org.\n",
    "\n",
    "While it is possible to install most of this software on your computers, it can be very difficult to get everything working. Also, many of us want to do or teach the science, so figuring out how to install all the software is not a good use of our time. \n",
    "***\n",
    "\n",
    "## Some important tips for using Jupyter Notebooks in Binder\n",
    "\n",
    "    1. Please ensure the code in a cell has finished running before moving on to the next one!\n",
    "    2. If you accidentally delete or mangle some code, use the Edit -> Undo function!\n",
    "    3. If you need to stop some code from running in a cell use the Stop button (next to the Run button).\n",
    "    4. If you don't interact with Binder for too long, you may lose the Kernel and need to restart it. \n",
    "    5. If you are away for a long time, then you may need to relaunch your Binder - which means you might need to regenerate any data that you did not download!\n",
    "***\n"
   ]
  },
  {
   "cell_type": "markdown",
   "metadata": {},
   "source": [
    "# Part B\n",
    "## Investigating evolutionary relationships through sequence and cluster analysis\n",
    "### Lets Import some sequence data\n",
    "\n",
    "In this Jupyter Notebook you will obtain a set of Myelin Basic Protein (MBP) sequences from different organisms from the Uniprot database. \n",
    "\n",
    "You will process these sequences to create an amino acid sequence alignment to examine relationships among MBP proteins. \n",
    "\n",
    "<font color=blue><b>STEP B1:</b></font> First, we will retrieve and upload a set of Myelin Basic Protein sequences from Uniprot. \n",
    "\n",
    "Click this link to head to https://uniprot.org in a new browser window.\n",
    "\n",
    "***\n",
    "At the uniprot site\n",
    "\n",
    "<font color=blue><b>STEP B2:</b></font> Type **Myelin Basic Protein** in the search bar and hit return.\n",
    "\n",
    "<font color=blue><b>STEP B3:</b></font> Explore the results and consider these questions:\n",
    "\n",
    "    1. How many results did you get from this search?\n",
    "    2. How many results are reviewed?\n",
    "    3. How many sequences are unreviewed?\n",
    "\n",
    "Hopefully you found over 6,000 total sequences. I would certainly call this <b>BIG DATA</b> - way too many sets to look at manually!\n",
    "\n",
    "<font color=blue><b>STEP B4:</b></font> Near the **Search** button click on the **Advanced** button. Let's add additional search fields to narrow down the results. \n",
    "\n",
    "Choose Term **Protein name [DE]** and enter **Myelin Basic Protein**. Click **+**\n",
    "\n",
    "Choose Term **Entry Name [ID]** and enter <b>MBP_*</b>\n",
    "\n",
    "Optional: Choose Term **Reviewed** if the number of sequences is above 25.\n",
    "    \n",
    "<br><img src=\"images/Uniprot_MBP_Advanced_Search.png\" width=400>\n",
    "\n",
    "<font color=blue><b>STEP B5:</b></font> Near the top of the sequences you will see the **download** button. Ensure <b>uncompressed</b> is checked and download all the sequences in FASTA format. Rename the downloaded file as *uniprot_mbp.fasta* (or use other protein name you searched for instead of *mbp*).\n",
    "\n",
    "Note where this file is being saved on **your** computer, we will need to upload it to the Binder environment next.\n",
    "<br><img src=\"images/Uniprot_MBP_Download.png\" width=400>\n",
    "\n",
    "<font color=blue><b>STEP B6:</b></font> Upload FASTA file to the *Binder* environment. In the files panel at the left, double click the *files* folder to open it. <br> Now you may either drag the uniprot_mbp.fasta file from your computer folder into the Binder folder or click the Upload files button that looks like this:<img src=\"images/upload.png\" width=50>\n",
    "***"
   ]
  },
  {
   "cell_type": "markdown",
   "metadata": {},
   "source": [
    "<font color=blue><b>STEP B7:</b></font> As the fasta file is simply a text file, you can double click it in the files panel and it will display the contents in a new window.\n",
    "\n",
    "You should see that each sequence record in the fasta formatted file starts with a '>' and that the first line contains identifying information. The following lines are the protein sequence in single letter amino acid code. \n",
    "\n",
    "<font color=blue><b>STEP B8:</b></font> Answer these questions:\n",
    "\n",
    "    1. From which organism is the first protein?\n",
    "    2. From which organism is the second protein?"
   ]
  },
  {
   "cell_type": "markdown",
   "metadata": {},
   "source": [
    "So far we have learned how to enter and edit Python code in a Jupyter notebook. We have also learned to upload a file and even looked at the first few lines of a very large sequence file.\n",
    "\n",
    "***\n",
    "## Making a multiple alignment of sequences\n",
    "\n",
    "We can learn alot by aligning sequences and examining positions that are conserved. Just as an introduction, we will make an alignment of MBP proteins using the Clustal Omega on the command line. More about Clustal Omega can be found here: http://www.clustal.org/omega/.\n",
    "\n",
    "<font color=blue><b>STEP B9:</b></font> Run the code below to align the fasta file containing knowns in an msf (multiple sequence format) file. (*Do not forget to change names of FASTA and MSF files if other protein is analyzed*) \n",
    "\n",
    "~~~Python\n",
    "!clustalo -i files/uniprot_mbp.fasta --outfmt='msf' -o files/uniprot_mbp.msf\n",
    "~~~"
   ]
  },
  {
   "cell_type": "code",
   "execution_count": 2,
   "metadata": {},
   "outputs": [
    {
     "name": "stdout",
     "output_type": "stream",
     "text": [
      "zsh:1: command not found: clustalo\n"
     ]
    }
   ],
   "source": []
  },
  {
   "cell_type": "markdown",
   "metadata": {},
   "source": [
    "<font color=blue><b>STEP B10:</b></font> Find the uniprot_mbp.msf file in the files tab and double click on it to open it. The symbol '~' indicates that a particular sequence does not have additional amino acids at the N or C terminus. A '.' means there is no amino acid in that sequence at that position, also called a gap. \n",
    "\n",
    "<font color=blue><b>STEP B11:</b></font> Use the msf to answer the following questions:\n",
    "\n",
    "    1. Which sequences appear most similar to each other?\n",
    "    2. If you had to pick one that is the most different, which would it be and why?\n",
    "\n",
    "\n"
   ]
  },
  {
   "cell_type": "code",
   "execution_count": null,
   "metadata": {},
   "outputs": [],
   "source": []
  },
  {
   "cell_type": "markdown",
   "metadata": {},
   "source": [
    "<font color=blue><b>STEP B12:</b></font> Read the multiple alignment file"
   ]
  },
  {
   "cell_type": "code",
   "execution_count": 88,
   "metadata": {},
   "outputs": [
    {
     "name": "stdout",
     "output_type": "stream",
     "text": [
      "Alignment with 15 rows and 346 columns\n",
      "--------------------------------------------...ARR sp_P02687_MBP_BOVIN\n",
      "MGNHAGKRELNAEKASTNSETNRGESEKKRNLGELSRTTSEDNE...ARR sp_P02686_MBP_HUMAN\n",
      "--------------------------------------------...ARR sp_P02688_MBP_RAT\n",
      "MGNHSGKRELSAEKASKDGEIHRGEAGKKRSVGKLSQTASEDSD...ARR sp_P04370_MBP_MOUSE\n",
      "--------------------------------------------...ARR sp_P15720_MBP_CHICK\n",
      "--------------------------------------------...ARR sp_P83487_MBP_HORSE\n",
      "--------------------------------------------...ARR sp_P81558_MBP_PIG\n",
      "--------------------------------------------...ARR sp_P25274_MBP_RABIT\n",
      "--------------------------------------------...RR- sp_Q91439_MBP_SQUAC\n",
      "--------------------------------------------...ARR sp_P06906_MBP_PANTR\n",
      "--------------------------------------------...ARR sp_P25188_MBP_CAVPO\n",
      "--------------------------------------------...ARR sp_P87346_MBP_XENLA\n",
      "--------------------------------------------...RR- sp_Q91325_MBP_LEUER\n",
      "--------------------------------------------...RR- sp_P20939_MBP_HETFR\n",
      "--------------------------------------------...RR- sp_P98190_MBP_CAROB\n"
     ]
    }
   ],
   "source": [
    "from Bio import AlignIO\n",
    "align = AlignIO.read(\"files/uniprot_mbp.msf\", \"msf\")\n",
    "print(align)"
   ]
  },
  {
   "cell_type": "markdown",
   "metadata": {},
   "source": [
    "<font color=blue><b>STEP B13:</b></font> Extract a portion of the Multiple Alignment from 230 to 270 positions."
   ]
  },
  {
   "cell_type": "code",
   "execution_count": 90,
   "metadata": {},
   "outputs": [
    {
     "name": "stdout",
     "output_type": "stream",
     "text": [
      "Alignment with 14 rows and 40 columns\n",
      "YGSLPQK---S-HGRTQDENPVVHFFKNIVTPRTPPPSQG sp_P02686_MBP_HUMAN\n",
      "YGSLPQK---S-Q-RTQDENPVVHFFKNIVTPRTPPPSQG sp_P02688_MBP_RAT\n",
      "YGSLPQK---SQHGRTQDENPVVHFFKNIVTPRTPPPSQG sp_P04370_MBP_MOUSE\n",
      "VGSIPQR---SQHGRPGDDNPVVHFFKNIVSPRTPPPMQA sp_P15720_MBP_CHICK\n",
      "YGSLPQK---SRDGRPQDENPVVHFFKINVTPRTPPPSQG sp_P83487_MBP_HORSE\n",
      "YGSLPQK---AQHGRPQDENPVVHFFKNIVTPRTPPPSQG sp_P81558_MBP_PIG\n",
      "YGSLPQK---S-GHRPQDENPVVHFFKNIVTPRTPPPSQG sp_P25274_MBP_RABIT\n",
      "LMAPTTHKAHQGARRQTDDSPVVHFFKNMMSPKKAPVQQK sp_Q91439_MBP_SQUAC\n",
      "YGSLPQK---S-GHRTQDENPVVHFFKNIVTPRTPPPSQG sp_P06906_MBP_PANTR\n",
      "YGSLPQK---S-Q-RSQDENPVVHFFKNIVTPRTPPPSQG sp_P25188_MBP_CAVPO\n",
      "LSSSPQRSPYHAHGRHVDDNPVVHFFRNIVSPRTPPPSQP sp_P87346_MBP_XENLA\n",
      "LMAPTTHKAHQGARRQTDDSPVVHFFKNMMSPKKAPVQQK sp_Q91325_MBP_LEUER\n",
      "LMAPTTHKAHQAAGRQTDDSAVVHFFKNMMSPKKAPVQQK sp_P20939_MBP_HETFR\n",
      "LMAPTLHKAHQAAGRQTDDSAVVHFFKNMMSPK-APVQQK sp_P98190_MBP_CAROB\n"
     ]
    }
   ],
   "source": [
    "align = AlignIO.read(\"files/uniprot_mbp.msf\", \"msf\")\n",
    "align1 = align[1:,230:270]\n",
    "print(align1)"
   ]
  },
  {
   "cell_type": "markdown",
   "metadata": {},
   "source": [
    "<font color=blue><b>STEP B14:</b></font> Convert MSF to FASTA format and print."
   ]
  },
  {
   "cell_type": "code",
   "execution_count": 92,
   "metadata": {},
   "outputs": [
    {
     "name": "stdout",
     "output_type": "stream",
     "text": [
      ">sp_P02686_MBP_HUMAN\n",
      "YGSLPQK---S-HGRTQDENPVVHFFKNIVTPRTPPPSQG\n",
      ">sp_P02688_MBP_RAT\n",
      "YGSLPQK---S-Q-RTQDENPVVHFFKNIVTPRTPPPSQG\n",
      ">sp_P04370_MBP_MOUSE\n",
      "YGSLPQK---SQHGRTQDENPVVHFFKNIVTPRTPPPSQG\n",
      ">sp_P15720_MBP_CHICK\n",
      "VGSIPQR---SQHGRPGDDNPVVHFFKNIVSPRTPPPMQA\n",
      ">sp_P83487_MBP_HORSE\n",
      "YGSLPQK---SRDGRPQDENPVVHFFKINVTPRTPPPSQG\n",
      ">sp_P81558_MBP_PIG\n",
      "YGSLPQK---AQHGRPQDENPVVHFFKNIVTPRTPPPSQG\n",
      ">sp_P25274_MBP_RABIT\n",
      "YGSLPQK---S-GHRPQDENPVVHFFKNIVTPRTPPPSQG\n",
      ">sp_Q91439_MBP_SQUAC\n",
      "LMAPTTHKAHQGARRQTDDSPVVHFFKNMMSPKKAPVQQK\n",
      ">sp_P06906_MBP_PANTR\n",
      "YGSLPQK---S-GHRTQDENPVVHFFKNIVTPRTPPPSQG\n",
      ">sp_P25188_MBP_CAVPO\n",
      "YGSLPQK---S-Q-RSQDENPVVHFFKNIVTPRTPPPSQG\n",
      ">sp_P87346_MBP_XENLA\n",
      "LSSSPQRSPYHAHGRHVDDNPVVHFFRNIVSPRTPPPSQP\n",
      ">sp_Q91325_MBP_LEUER\n",
      "LMAPTTHKAHQGARRQTDDSPVVHFFKNMMSPKKAPVQQK\n",
      ">sp_P20939_MBP_HETFR\n",
      "LMAPTTHKAHQAAGRQTDDSAVVHFFKNMMSPKKAPVQQK\n",
      ">sp_P98190_MBP_CAROB\n",
      "LMAPTLHKAHQAAGRQTDDSAVVHFFKNMMSPK-APVQQK\n",
      "\n"
     ]
    }
   ],
   "source": [
    "c = format(align1, \"fasta\")\n",
    "print(c) "
   ]
  },
  {
   "cell_type": "markdown",
   "metadata": {},
   "source": [
    "### Let's use LOGO plots to represent the most conservative amino acids\n",
    "\n",
    "First, we will test how LOGO module works in Biopython\n",
    "\n",
    "Run the code and tell if you can see the graph"
   ]
  },
  {
   "cell_type": "code",
   "execution_count": 101,
   "metadata": {},
   "outputs": [
    {
     "name": "stdout",
     "output_type": "stream",
     "text": [
      "Running /Users/achernov/opt/anaconda3/envs/PyR4/lib/python3.9/site-packages/logomaker/examples/demo_fig1b.py:\n",
      "-------------------------------------------------------------\n",
      "# do imports\n",
      "import matplotlib.pyplot as plt\n",
      "import logomaker as logomaker\n",
      "\n",
      "# load crp energy matrix\n",
      "crp_df = -logomaker.get_example_matrix('crp_energy_matrix',\n",
      "                                        print_description=False)\n",
      "\n",
      "# create Logo object\n",
      "crp_logo = logomaker.Logo(crp_df,\n",
      "                          shade_below=.5,\n",
      "                          fade_below=.5,\n",
      "                          font_name='Arial Rounded MT Bold')\n",
      "\n",
      "# style using Logo methods\n",
      "crp_logo.style_spines(visible=False)\n",
      "crp_logo.style_spines(spines=['left', 'bottom'], visible=True)\n",
      "crp_logo.style_xticks(rotation=90, fmt='%d', anchor=0)\n",
      "\n",
      "# style using Axes methods\n",
      "crp_logo.ax.set_ylabel(\"$-\\Delta \\Delta G$ (kcal/mol)\", labelpad=-1)\n",
      "crp_logo.ax.xaxis.set_ticks_position('none')\n",
      "crp_logo.ax.xaxis.set_tick_params(pad=-1)\n",
      "\n",
      "# style and show figure\n",
      "crp_logo.fig.show()\n",
      "-------------------------------------------------------------\n"
     ]
    },
    {
     "name": "stderr",
     "output_type": "stream",
     "text": [
      "<string>:26: UserWarning: Matplotlib is currently using module://matplotlib_inline.backend_inline, which is a non-GUI backend, so cannot show the figure.\n"
     ]
    },
    {
     "data": {
      "image/png": "[encoded data removed]",
      "text/plain": [
       "<Figure size 720x180 with 1 Axes>"
      ]
     },
     "execution_count": 101,
     "metadata": {},
     "output_type": "execute_result"
    },
    {
     "data": {
      "image/png": "[encoded data removed]",
      "text/plain": [
       "<Figure size 720x180 with 1 Axes>"
      ]
     },
     "metadata": {
      "needs_background": "light"
     },
     "output_type": "display_data"
    }
   ],
   "source": [
    "# Lets test that Logomaker works\n",
    "\n",
    "import logomaker as lm\n",
    "lm.demo('fig1b')"
   ]
  },
  {
   "cell_type": "code",
   "execution_count": null,
   "metadata": {},
   "outputs": [],
   "source": []
  },
  {
   "cell_type": "markdown",
   "metadata": {},
   "source": [
    "<font color=blue><b>STEP B15:</b></font> Convert the alignment to a list of sequences"
   ]
  },
  {
   "cell_type": "code",
   "execution_count": 94,
   "metadata": {},
   "outputs": [
    {
     "data": {
      "text/plain": [
       "['YGSLPQK---S-HGRTQDENPVVHFFKNIVTPRTPPPSQG',\n",
       " 'YGSLPQK---S-Q-RTQDENPVVHFFKNIVTPRTPPPSQG',\n",
       " 'YGSLPQK---SQHGRTQDENPVVHFFKNIVTPRTPPPSQG',\n",
       " 'VGSIPQR---SQHGRPGDDNPVVHFFKNIVSPRTPPPMQA',\n",
       " 'YGSLPQK---SRDGRPQDENPVVHFFKINVTPRTPPPSQG',\n",
       " 'YGSLPQK---AQHGRPQDENPVVHFFKNIVTPRTPPPSQG',\n",
       " 'YGSLPQK---S-GHRPQDENPVVHFFKNIVTPRTPPPSQG',\n",
       " 'LMAPTTHKAHQGARRQTDDSPVVHFFKNMMSPKKAPVQQK',\n",
       " 'YGSLPQK---S-GHRTQDENPVVHFFKNIVTPRTPPPSQG',\n",
       " 'YGSLPQK---S-Q-RSQDENPVVHFFKNIVTPRTPPPSQG',\n",
       " 'LSSSPQRSPYHAHGRHVDDNPVVHFFRNIVSPRTPPPSQP',\n",
       " 'LMAPTTHKAHQGARRQTDDSPVVHFFKNMMSPKKAPVQQK',\n",
       " 'LMAPTTHKAHQAAGRQTDDSAVVHFFKNMMSPKKAPVQQK',\n",
       " 'LMAPTLHKAHQAAGRQTDDSAVVHFFKNMMSPK-APVQQK']"
      ]
     },
     "execution_count": 94,
     "metadata": {},
     "output_type": "execute_result"
    }
   ],
   "source": [
    "AA = []\n",
    "for record in align1:\n",
    "    AA.append(str(record.seq))\n",
    "AA"
   ]
  },
  {
   "cell_type": "markdown",
   "metadata": {},
   "source": [
    "<font color=blue><b>STEP B16:</b></font> Convert to a number matrix and plot LOGOs"
   ]
  },
  {
   "cell_type": "code",
   "execution_count": 98,
   "metadata": {},
   "outputs": [
    {
     "data": {
      "text/html": [
       "<div>\n",
       "<style scoped>\n",
       "    .dataframe tbody tr th:only-of-type {\n",
       "        vertical-align: middle;\n",
       "    }\n",
       "\n",
       "    .dataframe tbody tr th {\n",
       "        vertical-align: top;\n",
       "    }\n",
       "\n",
       "    .dataframe thead th {\n",
       "        text-align: right;\n",
       "    }\n",
       "</style>\n",
       "<table border=\"1\" class=\"dataframe\">\n",
       "  <thead>\n",
       "    <tr style=\"text-align: right;\">\n",
       "      <th></th>\n",
       "      <th>A</th>\n",
       "      <th>D</th>\n",
       "      <th>E</th>\n",
       "      <th>F</th>\n",
       "      <th>G</th>\n",
       "      <th>H</th>\n",
       "      <th>I</th>\n",
       "      <th>K</th>\n",
       "      <th>L</th>\n",
       "      <th>M</th>\n",
       "      <th>N</th>\n",
       "      <th>P</th>\n",
       "      <th>Q</th>\n",
       "      <th>R</th>\n",
       "      <th>S</th>\n",
       "      <th>T</th>\n",
       "      <th>V</th>\n",
       "      <th>Y</th>\n",
       "    </tr>\n",
       "    <tr>\n",
       "      <th>pos</th>\n",
       "      <th></th>\n",
       "      <th></th>\n",
       "      <th></th>\n",
       "      <th></th>\n",
       "      <th></th>\n",
       "      <th></th>\n",
       "      <th></th>\n",
       "      <th></th>\n",
       "      <th></th>\n",
       "      <th></th>\n",
       "      <th></th>\n",
       "      <th></th>\n",
       "      <th></th>\n",
       "      <th></th>\n",
       "      <th></th>\n",
       "      <th></th>\n",
       "      <th></th>\n",
       "      <th></th>\n",
       "    </tr>\n",
       "  </thead>\n",
       "  <tbody>\n",
       "    <tr>\n",
       "      <th>0</th>\n",
       "      <td>0.0</td>\n",
       "      <td>0.0</td>\n",
       "      <td>0.0</td>\n",
       "      <td>0.0</td>\n",
       "      <td>0.0</td>\n",
       "      <td>0.0</td>\n",
       "      <td>0.0</td>\n",
       "      <td>0.0</td>\n",
       "      <td>5.0</td>\n",
       "      <td>0.0</td>\n",
       "      <td>0.0</td>\n",
       "      <td>0.0</td>\n",
       "      <td>0.0</td>\n",
       "      <td>0.0</td>\n",
       "      <td>0.0</td>\n",
       "      <td>0.0</td>\n",
       "      <td>1.0</td>\n",
       "      <td>8.0</td>\n",
       "    </tr>\n",
       "    <tr>\n",
       "      <th>1</th>\n",
       "      <td>0.0</td>\n",
       "      <td>0.0</td>\n",
       "      <td>0.0</td>\n",
       "      <td>0.0</td>\n",
       "      <td>9.0</td>\n",
       "      <td>0.0</td>\n",
       "      <td>0.0</td>\n",
       "      <td>0.0</td>\n",
       "      <td>0.0</td>\n",
       "      <td>4.0</td>\n",
       "      <td>0.0</td>\n",
       "      <td>0.0</td>\n",
       "      <td>0.0</td>\n",
       "      <td>0.0</td>\n",
       "      <td>1.0</td>\n",
       "      <td>0.0</td>\n",
       "      <td>0.0</td>\n",
       "      <td>0.0</td>\n",
       "    </tr>\n",
       "    <tr>\n",
       "      <th>2</th>\n",
       "      <td>4.0</td>\n",
       "      <td>0.0</td>\n",
       "      <td>0.0</td>\n",
       "      <td>0.0</td>\n",
       "      <td>0.0</td>\n",
       "      <td>0.0</td>\n",
       "      <td>0.0</td>\n",
       "      <td>0.0</td>\n",
       "      <td>0.0</td>\n",
       "      <td>0.0</td>\n",
       "      <td>0.0</td>\n",
       "      <td>0.0</td>\n",
       "      <td>0.0</td>\n",
       "      <td>0.0</td>\n",
       "      <td>10.0</td>\n",
       "      <td>0.0</td>\n",
       "      <td>0.0</td>\n",
       "      <td>0.0</td>\n",
       "    </tr>\n",
       "    <tr>\n",
       "      <th>3</th>\n",
       "      <td>0.0</td>\n",
       "      <td>0.0</td>\n",
       "      <td>0.0</td>\n",
       "      <td>0.0</td>\n",
       "      <td>0.0</td>\n",
       "      <td>0.0</td>\n",
       "      <td>1.0</td>\n",
       "      <td>0.0</td>\n",
       "      <td>8.0</td>\n",
       "      <td>0.0</td>\n",
       "      <td>0.0</td>\n",
       "      <td>4.0</td>\n",
       "      <td>0.0</td>\n",
       "      <td>0.0</td>\n",
       "      <td>1.0</td>\n",
       "      <td>0.0</td>\n",
       "      <td>0.0</td>\n",
       "      <td>0.0</td>\n",
       "    </tr>\n",
       "    <tr>\n",
       "      <th>4</th>\n",
       "      <td>0.0</td>\n",
       "      <td>0.0</td>\n",
       "      <td>0.0</td>\n",
       "      <td>0.0</td>\n",
       "      <td>0.0</td>\n",
       "      <td>0.0</td>\n",
       "      <td>0.0</td>\n",
       "      <td>0.0</td>\n",
       "      <td>0.0</td>\n",
       "      <td>0.0</td>\n",
       "      <td>0.0</td>\n",
       "      <td>10.0</td>\n",
       "      <td>0.0</td>\n",
       "      <td>0.0</td>\n",
       "      <td>0.0</td>\n",
       "      <td>4.0</td>\n",
       "      <td>0.0</td>\n",
       "      <td>0.0</td>\n",
       "    </tr>\n",
       "  </tbody>\n",
       "</table>\n",
       "</div>"
      ],
      "text/plain": [
       "       A    D    E    F    G    H    I    K    L    M    N     P    Q    R  \\\n",
       "pos                                                                          \n",
       "0    0.0  0.0  0.0  0.0  0.0  0.0  0.0  0.0  5.0  0.0  0.0   0.0  0.0  0.0   \n",
       "1    0.0  0.0  0.0  0.0  9.0  0.0  0.0  0.0  0.0  4.0  0.0   0.0  0.0  0.0   \n",
       "2    4.0  0.0  0.0  0.0  0.0  0.0  0.0  0.0  0.0  0.0  0.0   0.0  0.0  0.0   \n",
       "3    0.0  0.0  0.0  0.0  0.0  0.0  1.0  0.0  8.0  0.0  0.0   4.0  0.0  0.0   \n",
       "4    0.0  0.0  0.0  0.0  0.0  0.0  0.0  0.0  0.0  0.0  0.0  10.0  0.0  0.0   \n",
       "\n",
       "        S    T    V    Y  \n",
       "pos                       \n",
       "0     0.0  0.0  1.0  8.0  \n",
       "1     1.0  0.0  0.0  0.0  \n",
       "2    10.0  0.0  0.0  0.0  \n",
       "3     1.0  0.0  0.0  0.0  \n",
       "4     0.0  4.0  0.0  0.0  "
      ]
     },
     "execution_count": 98,
     "metadata": {},
     "output_type": "execute_result"
    }
   ],
   "source": [
    "counts_mat = lm.alignment_to_matrix(AA, characters_to_ignore='-')\n",
    "counts_mat.head()"
   ]
  },
  {
   "cell_type": "code",
   "execution_count": 99,
   "metadata": {},
   "outputs": [
    {
     "data": {
      "text/plain": [
       "<logomaker.src.Logo.Logo at 0x16aae31c0>"
      ]
     },
     "execution_count": 99,
     "metadata": {},
     "output_type": "execute_result"
    },
    {
     "data": {
      "image/png": "[encoded data removed]",
      "text/plain": [
       "<Figure size 720x180 with 1 Axes>"
      ]
     },
     "metadata": {
      "needs_background": "light"
     },
     "output_type": "display_data"
    }
   ],
   "source": [
    "lm.Logo(counts_mat, \n",
    "                         font_name='Stencil Std',\n",
    "                         color_scheme='skylign_protein',\n",
    "                         vpad=.2,\n",
    "                         width=0.8)"
   ]
  },
  {
   "cell_type": "markdown",
   "metadata": {},
   "source": [
    "<font color=blue><b>STEP B17:</b></font> Try different a coloring scheme from a list of available colors"
   ]
  },
  {
   "cell_type": "code",
   "execution_count": 100,
   "metadata": {},
   "outputs": [
    {
     "data": {
      "text/html": [
       "<div>\n",
       "<style scoped>\n",
       "    .dataframe tbody tr th:only-of-type {\n",
       "        vertical-align: middle;\n",
       "    }\n",
       "\n",
       "    .dataframe tbody tr th {\n",
       "        vertical-align: top;\n",
       "    }\n",
       "\n",
       "    .dataframe thead th {\n",
       "        text-align: right;\n",
       "    }\n",
       "</style>\n",
       "<table border=\"1\" class=\"dataframe\">\n",
       "  <thead>\n",
       "    <tr style=\"text-align: right;\">\n",
       "      <th></th>\n",
       "      <th>color_scheme</th>\n",
       "      <th>characters</th>\n",
       "    </tr>\n",
       "  </thead>\n",
       "  <tbody>\n",
       "    <tr>\n",
       "      <th>0</th>\n",
       "      <td>classic</td>\n",
       "      <td>ACGTU</td>\n",
       "    </tr>\n",
       "    <tr>\n",
       "      <th>1</th>\n",
       "      <td>grays</td>\n",
       "      <td>ACGTU</td>\n",
       "    </tr>\n",
       "    <tr>\n",
       "      <th>2</th>\n",
       "      <td>base_pairing</td>\n",
       "      <td>ACGTU</td>\n",
       "    </tr>\n",
       "    <tr>\n",
       "      <th>3</th>\n",
       "      <td>colorblind_safe</td>\n",
       "      <td>ACGTU</td>\n",
       "    </tr>\n",
       "    <tr>\n",
       "      <th>4</th>\n",
       "      <td>weblogo_protein</td>\n",
       "      <td>ACDEFGHIKLMNPQRSTVWY</td>\n",
       "    </tr>\n",
       "    <tr>\n",
       "      <th>5</th>\n",
       "      <td>skylign_protein</td>\n",
       "      <td>ACDEFGHIKLMNPQRSTVWY</td>\n",
       "    </tr>\n",
       "    <tr>\n",
       "      <th>6</th>\n",
       "      <td>dmslogo_charge</td>\n",
       "      <td>ACDEFGHIKLMNPQRSTVWY</td>\n",
       "    </tr>\n",
       "    <tr>\n",
       "      <th>7</th>\n",
       "      <td>dmslogo_funcgroup</td>\n",
       "      <td>ACDEFGHIKLMNPQRSTVWY</td>\n",
       "    </tr>\n",
       "    <tr>\n",
       "      <th>8</th>\n",
       "      <td>hydrophobicity</td>\n",
       "      <td>ACDEFGHIKLMNPQRSTVWY</td>\n",
       "    </tr>\n",
       "    <tr>\n",
       "      <th>9</th>\n",
       "      <td>chemistry</td>\n",
       "      <td>ACDEFGHIKLMNPQRSTVWY</td>\n",
       "    </tr>\n",
       "    <tr>\n",
       "      <th>10</th>\n",
       "      <td>charge</td>\n",
       "      <td>ACDEFGHIKLMNPQRSTVWY</td>\n",
       "    </tr>\n",
       "    <tr>\n",
       "      <th>11</th>\n",
       "      <td>NajafabadiEtAl2017</td>\n",
       "      <td>ACDEFGHIKLMNPQRSTVWY</td>\n",
       "    </tr>\n",
       "  </tbody>\n",
       "</table>\n",
       "</div>"
      ],
      "text/plain": [
       "          color_scheme            characters\n",
       "0              classic                 ACGTU\n",
       "1                grays                 ACGTU\n",
       "2         base_pairing                 ACGTU\n",
       "3      colorblind_safe                 ACGTU\n",
       "4      weblogo_protein  ACDEFGHIKLMNPQRSTVWY\n",
       "5      skylign_protein  ACDEFGHIKLMNPQRSTVWY\n",
       "6       dmslogo_charge  ACDEFGHIKLMNPQRSTVWY\n",
       "7    dmslogo_funcgroup  ACDEFGHIKLMNPQRSTVWY\n",
       "8       hydrophobicity  ACDEFGHIKLMNPQRSTVWY\n",
       "9            chemistry  ACDEFGHIKLMNPQRSTVWY\n",
       "10              charge  ACDEFGHIKLMNPQRSTVWY\n",
       "11  NajafabadiEtAl2017  ACDEFGHIKLMNPQRSTVWY"
      ]
     },
     "execution_count": 100,
     "metadata": {},
     "output_type": "execute_result"
    }
   ],
   "source": [
    "logomaker.list_color_schemes()"
   ]
  },
  {
   "cell_type": "markdown",
   "metadata": {},
   "source": [
    "***\n",
    "## Congratulations, you have finished the first notebook in this exercise!"
   ]
  },
  {
   "cell_type": "code",
   "execution_count": null,
   "metadata": {},
   "outputs": [],
   "source": []
  }
 ],
 "metadata": {
  "kernelspec": {
   "display_name": "Python 3 (ipykernel)",
   "language": "python",
   "name": "python3"
  },
  "language_info": {
   "codemirror_mode": {
    "name": "ipython",
    "version": 3
   },
   "file_extension": ".py",
   "mimetype": "text/x-python",
   "name": "python",
   "nbconvert_exporter": "python",
   "pygments_lexer": "ipython3",
   "version": "3.9.10"
  }
 },
 "nbformat": 4,
 "nbformat_minor": 4
}
