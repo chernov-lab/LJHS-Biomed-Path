{
 "cells": [
  {
   "cell_type": "markdown",
   "metadata": {},
   "source": [
    "# Working with Biological Sequences\n",
    "\n",
    "## Dr. Andrei Chernov\n",
    "## University of California San Diego\n",
    "#### February, 2022. Version 01\n",
    "***\n",
    "\n",
    "The goals of Day 1 exercise are to:\n",
    "\n",
    "    * Learn to navigate Jupyter Notebooks in the Binder.org environment\n",
    "    * Learn how to run simple Python code in Jupyter environment\n",
    "    * Learn where to find protein sequences\n",
    "    * Learn about FASTA sequence files\n",
    "    * Be able to handle large sequence datasets\n",
    "    * Learn about the sequence alignment tool (CLUSTAL OMEGA)\n",
    "    * Identify sequence similarity on plots \n",
    "\n",
    "***"
   ]
  },
  {
   "cell_type": "markdown",
   "metadata": {},
   "source": [
    "# Part A\n",
    "## A (very) brief introduction to Jupyter Notebooks and Python Programming Language\n",
    "\n",
    "Jupyter notebooks: \n",
    "\n",
    "    Provide an interactive, web-based programming environment that are easy to use in a classroom or lab\n",
    "    \n",
    "    Give instant access to a variety of Big Data programming tools \n",
    "    \n",
    "    Include narrative sections (markdown) that help to understand the code \n",
    "***\n",
    "## Why we use Binder?\n",
    "\n",
    "    We are running this Jupter notebook in Binder, a remote environment that I have set up in GitHub. In this environment all the needed software is already installed, and we can easily upload files to work with! Check out more at https://mybinder.org.\n",
    "\n",
    "    While it is possible to install most of this software on your computers, it can be very difficult to get everything working. Also, many of us want to do or teach the science, so figuring out how to install all the software is not a good use of our time.\n",
    "    \n",
    "    Important, this is a very safe sandbox - where is nothing to break if you mess up the code! \n",
    "***"
   ]
  },
  {
   "cell_type": "markdown",
   "metadata": {},
   "source": [
    "**Technical tip:** By default Jupyter notebook is based on the Python 3 programming language. Other programming languages can be added as **kernels**\n",
    "\n",
    "This is an example of the Python code:\n",
    "***\n",
    "~~~python\n",
    "print(\"Hello, LJHS Biomed Path!\")\n",
    "~~~\n",
    "***\n",
    "<font color=blue><b>STEP A1:</b></font> Copy and paste the above code into the code box below. The code box starts with [ ]:\n",
    "\n",
    "Run the code using the Run button or shift+return. You should see some output appear below the box.\n",
    "\n",
    "While the code is running you will see an asterisk appear in the brackets, e.g.: [\\*]. When it is completed, a number appears, e.g. [1]."
   ]
  },
  {
   "cell_type": "code",
   "execution_count": null,
   "metadata": {},
   "outputs": [],
   "source": []
  },
  {
   "cell_type": "markdown",
   "metadata": {},
   "source": [
    "***\n",
    "Admittedly, this is some boring code, so why not spice it up? \n",
    "\n",
    "Edit the code box above to print your name at the end of the statement. When you rerun the code (either with the Run button or the shift+return) you will see the new output below that box and the number in brackets on that line increments by 1.\n",
    "\n",
    "If this is your first time writing and running some Python code, congratulations! "
   ]
  },
  {
   "cell_type": "markdown",
   "metadata": {},
   "source": [
    "<font color=blue><b>STEP A2:</b></font> Let's try copying and pasting some slightly more complicated code into the code box below.\n",
    "We create a loop using a Python command **for** that repeatedly executes the code **print** for a specific number of times\n",
    "\n",
    "***\n",
    "~~~python\n",
    "for i in range(3):\n",
    "    print(\"Biomed Path is awesome!\")\n",
    "~~~\n",
    "***\n",
    "\n",
    "Copy the code above, copy in the box below and run it."
   ]
  },
  {
   "cell_type": "code",
   "execution_count": null,
   "metadata": {},
   "outputs": [],
   "source": []
  },
  {
   "cell_type": "markdown",
   "metadata": {},
   "source": [
    "***\n",
    "Now, lets introduce the **random** module\n",
    "\n",
    "<font color=blue><b>STEP A3:</b></font> Edit the code to find out how long it takes to print a meaningful sentence from random words. For example, I might want to say \"how cute is Python!\" by shuffling the words. When you rerun the code (either with the Run button or the shift+return) you will see the new sentenses repeated the number of times shown in brackets.\n",
    "\n",
    "Let's try copying and pasting some slightly more complicated code into the code box below.\n",
    "***\n",
    "~~~python\n",
    "import random\n",
    "\n",
    "meaningless_sentence = \"is cute how Python\"\n",
    "print(meaningless_sentence)\n",
    "\n",
    "for i in range(4):\n",
    "    words = meaningless_sentence.split()\n",
    "    random.shuffle(words)\n",
    "    new_sentence = ' '.join(words) + '!'\n",
    "    print(new_sentence)\n",
    "~~~\n",
    "***\n",
    "This code creates a loop and runs the code to randomly reshuffle words in the meaningless sentence\n",
    "\n",
    "Copy the code above, copy in the box below and run it.\n",
    "\n",
    "    * Increase the number of loop iterations until a meaningful sentence appears"
   ]
  },
  {
   "cell_type": "code",
   "execution_count": null,
   "metadata": {},
   "outputs": [],
   "source": []
  },
  {
   "cell_type": "markdown",
   "metadata": {},
   "source": [
    "***\n",
    "<font color=blue><b>STEP A4:</b></font> **On to the Science!** - Now we want to see how to generate random biological sequences\n",
    "\n",
    "We have the amino acid sequence \"GATRHFFKSPPQWRIND\" of a protein in which each letter corresponds to an amino acid residue (1-letter code).\n",
    "***\n",
    "~~~python\n",
    "import random\n",
    "\n",
    "protein = \"GATRHFFKSPPQWRIND\"\n",
    "print('Original sequence:')\n",
    "print(' '.join(list(protein)))\n",
    "\n",
    "print('Random sequences:')\n",
    "\n",
    "for i in range(4):\n",
    "    AminoAcid = list(protein)\n",
    "    random.shuffle(AminoAcid)\n",
    "    new_protein = ' '.join(AminoAcid)\n",
    "    print(new_protein)\n",
    "~~~\n",
    "***\n",
    "\n",
    "Copy the code above, copy in the box below and run it."
   ]
  },
  {
   "cell_type": "code",
   "execution_count": null,
   "metadata": {},
   "outputs": [],
   "source": []
  },
  {
   "cell_type": "markdown",
   "metadata": {},
   "source": [
    "***\n",
    "<font color=blue><b>STEP A5:</b></font> Now we want to find out how many tries it takes for a DNA sequence to randomly mutate\n",
    "\n",
    "This code creates a loop\n",
    "***\n",
    "~~~python\n",
    "import random\n",
    "\n",
    "seq = \"GATC\"\n",
    "print('The original sequence is ' + seq)\n",
    "\n",
    "target = \"CTGA\"\n",
    "print('The target sequence is ' + target)\n",
    "\n",
    "count = 0  # counter\n",
    "for i in range(100):\n",
    "    count += 1\n",
    "    nucleotides = list(seq)\n",
    "    random.shuffle(nucleotides)\n",
    "    new_seq = ''.join(nucleotides)\n",
    "    if new_seq == target:\n",
    "        print(count)\n",
    "        print(new_seq)\n",
    "        break\n",
    "    else: \n",
    "        print(\".\", end='')\n",
    "~~~\n",
    "***\n",
    "\n",
    "Copy the code above, copy in the box below and run it."
   ]
  },
  {
   "cell_type": "code",
   "execution_count": null,
   "metadata": {},
   "outputs": [],
   "source": []
  },
  {
   "cell_type": "markdown",
   "metadata": {},
   "source": [
    "***\n",
    "<font color=blue><b>STEP A6:</b></font> Change the range in the code above to 10, 100, 1000 and run it again.\n",
    "\n",
    "<font color=blue><b>STEP A7:</b></font> Change the DNA sequence by adding additional letters. Note the number of iterations it takes to mutate longer DNA sequences \n",
    "\n",
    "These simple exercises serve two purposes (I hope). Namely that you can...\n",
    "* Run working code with minimal guidance!\n",
    "* Edit Jupyter notebooks to tailor your exercises to your own needs!\n",
    "\n",
    "***"
   ]
  },
  {
   "cell_type": "markdown",
   "metadata": {},
   "source": [
    "## Technical tips for using Jupyter Notebooks in Binder\n",
    "\n",
    "    1. Please ensure the code in a cell has finished running before moving on to the next one!\n",
    "    2. If you accidentally delete or mangle some code, use the Edit -> Undo function!\n",
    "    3. If you need to stop some code from running in a cell use the Stop button (next to the Run button).\n",
    "    4. If you don't interact with Binder for too long, you may lose the Kernel and need to restart it. \n",
    "    5. If you are away for a long time, then you may need to relaunch your Binder - which means you might need to regenerate any data that you did not download!\n",
    "***\n"
   ]
  },
  {
   "cell_type": "markdown",
   "metadata": {},
   "source": [
    "# Part B\n",
    "## Investigating evolutionary relationships of protein sequences with similar function\n",
    "\n",
    "Scientists deal with large datasets stored in online depositories or databases that frequently contain redundant information. \n",
    "\n",
    "If we run a BLAST search to identify a protein sequence, we obtain 100s of sequences, both relevant or inrelevant. \n",
    "\n",
    "In many cases this is more than we need, and we have to weed \"Big Data\" to extract meaningful results using **filters**. \n",
    "\n",
    "Bioinformatic processing of large datasets may require customized & expensive software but often can be done using free programming tools. \n",
    "\n",
    "### Lets Import some sequence data\n",
    "\n",
    "In this Jupyter Notebook you will obtain a set of Myelin Basic Protein (MBP) sequences from different organisms from the Uniprot database. \n",
    "\n",
    "You will process these sequences to create an amino acid sequence alignment to examine relationships among MBP proteins. \n",
    "\n",
    "<font color=blue><b>STEP B1:</b></font> First, we will retrieve and upload a set of Myelin Basic Protein sequences from Uniprot. \n",
    "\n",
    "Click this link to head to https://uniprot.org in a new browser window.\n",
    "\n",
    "***\n",
    "At the uniprot site\n",
    "\n",
    "<font color=blue><b>STEP B2:</b></font> Type **Myelin Basic Protein** in the search bar and hit **Search**.\n",
    "\n",
    "<font color=blue><b>STEP B3:</b></font> Explore the results and consider these questions:\n",
    "\n",
    "    1. How many results did you get from this search?\n",
    "    2. How many results are reviewed?\n",
    "    3. How many sequences are unreviewed?\n",
    "\n",
    "Let's call this <b>BIG DATA</b> - way too many sequences to look at manually!\n",
    "\n",
    "<font color=blue><b>STEP B4:</b></font> Filter the results to include only most related sequences. \n",
    "\n",
    "Near the **Search** button click on the **Advanced** button. Here you can add additional search fields to narrow down the results. \n",
    "\n",
    "Choose Term **Protein name [DE]** and enter **Myelin Basic Protein**. Click **+**\n",
    "\n",
    "Choose Term **Entry Name [ID]** and enter <b>MBP_*</b>. Click **+**\n",
    "\n",
    "(optional) Choose Term **Reviewed** if the number of sequences is still over 1000.\n",
    "\n",
    "Hit **Search**.\n",
    "    \n",
    "<br><img src=\"images/Uniprot_MBP_Advanced_Search.png\" width=400>\n",
    "\n",
    "<font color=blue><b>STEP B5:</b></font> Near the top of the sequences you will see the **download** button. Ensure <b>uncompressed</b> is checked and download all the sequences in FASTA format. Rename the downloaded file as *uniprot_mbp.fasta* (or use other protein name you searched for instead of *mbp*).\n",
    "\n",
    "Note where this file is being saved on **your** computer, we will need to upload it to the Binder environment next.\n",
    "<br><img src=\"images/Uniprot_MBP_Download.png\" width=400>\n",
    "\n",
    "<font color=blue><b>STEP B6:</b></font> Upload FASTA file to the *Binder* environment. In the files panel at the left, double click the *files* folder to open it. <br> Now you may either drag the uniprot_mbp.fasta file from your computer folder into the Binder folder or click the Upload files button that looks like this:<img src=\"images/upload.png\" width=50>\n",
    "***"
   ]
  },
  {
   "cell_type": "markdown",
   "metadata": {},
   "source": [
    "<font color=blue><b>STEP B7:</b></font> Let's explore the FASTA file format\n",
    "\n",
    "FASTA format is the most simple way to store sequence information \n",
    "\n",
    "example:\n",
    "<br><img src=\"images/Fasta_format.png\" width=800>\n",
    "\n",
    "As the fasta file is a text file, you can double click it in the files panel and it will display the contents in a new window.\n",
    "\n",
    "You should see that each sequence record in the fasta formatted file starts with a '>' and that the first line contains identifying information. The following lines are the protein sequence in single letter amino acid code. \n",
    "\n",
    "<font color=blue><b>STEP B8:</b></font> Answer these questions:\n",
    "\n",
    "    1. From which organism is the first protein?\n",
    "    2. Can FASTA files contain more than one sequence?"
   ]
  },
  {
   "cell_type": "markdown",
   "metadata": {},
   "source": [
    "So far we have learned how to enter and edit Python code in a Jupyter notebook. We have also learned to upload a file and even looked at the sequence file.\n",
    "\n",
    "***\n",
    "## Making a multiple alignment of sequences\n",
    "\n",
    "We can learn alot about protein evolution by aligning sequences and examining positions that are conserved. Just as an introduction, we will make an alignment of MBP proteins using the Clustal Omega on the command line. More about Clustal Omega can be found here: http://www.clustal.org/omega/.\n",
    "\n",
    "<font color=blue><b>STEP B9:</b></font> Run the program **clustalo** using the code below to align the fasta file containing knowns in an msf (multiple sequence format) file. \n",
    "\n",
    "(*Do not forget to change names of FASTA and MSF files if other proteins are analyzed*) \n",
    "***\n",
    "~~~Python\n",
    "!clustalo -i files/uniprot_mbp.fasta --outfmt='msf' -o files/uniprot_mbp.msf --force\n",
    "~~~\n",
    "***\n",
    "This command may take longer time to run. Wait until you see [*] change to a number"
   ]
  },
  {
   "cell_type": "code",
   "execution_count": null,
   "metadata": {},
   "outputs": [],
   "source": []
  },
  {
   "cell_type": "markdown",
   "metadata": {},
   "source": [
    "***\n",
    "<font color=blue><b>STEP B10:</b></font> Find the uniprot_mbp.msf file in the files tab and double click on it to open. The symbol '~' indicates that a particular sequence does not have additional amino acids at the N or C terminus. A '.' means there is no amino acid (a **gap**) in that sequence at that position. \n",
    "\n",
    "<font color=blue><b>STEP B11:</b></font> Use the msf to answer the following questions:\n",
    "\n",
    "    1. Which sequences appear most similar to each other?\n",
    "    2. If you had to pick one that is the most different, which would it be and why?\n"
   ]
  },
  {
   "cell_type": "markdown",
   "metadata": {},
   "source": [
    "<font color=blue><b>STEP B12:</b></font> Print the multiple alignment file\n",
    "***\n",
    "~~~Python\n",
    "from Bio import AlignIO\n",
    "align = AlignIO.read(\"files/uniprot_mbp.msf\", \"msf\")\n",
    "print(align)\n",
    "\n",
    "# open and inspect the MSF file located in the files folder\n",
    "~~~\n",
    "***"
   ]
  },
  {
   "cell_type": "code",
   "execution_count": null,
   "metadata": {},
   "outputs": [],
   "source": []
  },
  {
   "cell_type": "markdown",
   "metadata": {},
   "source": [
    "***\n",
    "<font color=blue><b>STEP B13:</b></font> Next, we will extract only the highly *conserved* portion of the Multiple Alignment at positions 230 to 270:\n",
    "***\n",
    "~~~Python\n",
    "align = AlignIO.read(\"files/uniprot_mbp.msf\", \"msf\")\n",
    "align_partial = align[1:,230:270]\n",
    "print(align_partial)\n",
    "~~~\n",
    "***"
   ]
  },
  {
   "cell_type": "code",
   "execution_count": null,
   "metadata": {},
   "outputs": [],
   "source": []
  },
  {
   "cell_type": "markdown",
   "metadata": {},
   "source": [
    "***\n",
    "<font color=blue><b>STEP B14:</b></font> We can also convert MSF to FASTA format:\n",
    "***\n",
    "~~~Python\n",
    "print(format(align_partial, \"fasta\"))\n",
    "~~~\n",
    "***"
   ]
  },
  {
   "cell_type": "code",
   "execution_count": null,
   "metadata": {},
   "outputs": [],
   "source": []
  },
  {
   "cell_type": "markdown",
   "metadata": {},
   "source": [
    "****\n",
    "### We will use a sequence LOGO plot to represent conservative amino acids in the multiple alignment\n",
    "\n",
    "In bioinformatics, a sequence LOGO is a graphical representation of the sequence conservation of nucleotides (in a strand of DNA/RNA) or amino acids (in protein sequences)\n",
    "\n",
    "A sequence LOGO consists of a stack of letters at each position. The relative sizes of the letters indicate their frequency in the sequences. \n",
    "\n",
    "First, we will test how the LOGO module works correctly by running a demo\n",
    "\n",
    "Run the code and tell if you can see the graph:\n",
    "***\n",
    "~~~Python\n",
    "import logomaker as lm\n",
    "lm.demo('fig1b')\n",
    "~~~\n",
    "***"
   ]
  },
  {
   "cell_type": "code",
   "execution_count": null,
   "metadata": {},
   "outputs": [],
   "source": []
  },
  {
   "cell_type": "markdown",
   "metadata": {},
   "source": [
    "***\n",
    "<font color=blue><b>STEP B15:</b></font> To import our Multiple Alignment data into the LOGO module we \n",
    "\n",
    "First, we extract all amino acid sequences from the alignment and store them in a variable (AA):\n",
    "***\n",
    "~~~Python\n",
    "AA = []\n",
    "for record in align_partial:\n",
    "    AA.append(str(record.seq))\n",
    "AA\n",
    "~~~\n",
    "***"
   ]
  },
  {
   "cell_type": "code",
   "execution_count": null,
   "metadata": {},
   "outputs": [],
   "source": []
  },
  {
   "cell_type": "markdown",
   "metadata": {},
   "source": [
    "***\n",
    "<font color=blue><b>STEP B16:</b></font> Next, we take AA variable and convert the alignment to a number matrix:\n",
    "***\n",
    "~~~Python\n",
    "counts_matrix = lm.alignment_to_matrix(AA, characters_to_ignore='-')\n",
    "counts_matrix\n",
    "~~~\n",
    "***\n",
    "After you run the code, inspect the number matrix and tell how these numbers relate to the amino acid sequences"
   ]
  },
  {
   "cell_type": "code",
   "execution_count": null,
   "metadata": {},
   "outputs": [],
   "source": []
  },
  {
   "cell_type": "markdown",
   "metadata": {},
   "source": [
    "***\n",
    "<font color=blue><b>STEP B17:</b></font> Finally, let's print the sequence LOGO plot using the number matrix:\n",
    "***\n",
    "~~~Python\n",
    "lm.Logo(counts_matrix, \n",
    "        font_name='Stencil Std',\n",
    "        color_scheme='skylign_protein',\n",
    "        vpad=.2,\n",
    "        width=0.8)\n",
    "~~~\n",
    "***\n",
    "After you run the code, inspect the number matrix and tell how these numbers relate to the amino acid sequences"
   ]
  },
  {
   "cell_type": "code",
   "execution_count": null,
   "metadata": {},
   "outputs": [],
   "source": []
  },
  {
   "cell_type": "markdown",
   "metadata": {},
   "source": [
    "***\n",
    "<font color=blue><b>STEP B18:</b></font> Try changing **vpad** and **width** parameters. Change **color_scheme** choosing from a list of available colors. To learn what color schemes exist, run the following code:\n",
    "***\n",
    "~~~Python\n",
    "lm.list_color_schemes()\n",
    "~~~\n",
    "***"
   ]
  },
  {
   "cell_type": "code",
   "execution_count": null,
   "metadata": {},
   "outputs": [],
   "source": []
  },
  {
   "cell_type": "markdown",
   "metadata": {},
   "source": [
    "***\n",
    "## Congratulations, you have finished your first bioinformatics exercise!"
   ]
  },
  {
   "cell_type": "markdown",
   "metadata": {},
   "source": [
    "***\n",
    "## Homework!\n",
    "\n",
    "Repeat Part B exploring the following protein:\n",
    "\n",
    "*Tissue inhibitor of matrix proteinases* \n",
    "\n",
    "At the uniprot.org site go to advanced search and enter \"Metalloproteinase inhibitor 1\" as **Protein name [DE]** and choose **Reviewed** entries as following:\n",
    "\n",
    "<br><img src=\"images/timps_search.png\" width=400>\n",
    "\n",
    "Next, download uncompressed file, rename file to \"uniprot_timp.fasta\" and upload to the binder environment folder *files*\n",
    "\n",
    "Continue from **Step B9** and **do not forget to edit the filename** in the python code\n",
    "\n",
    "Inspect the uniprot_timp.msf file and choose the region within the length range to display on a LOGO plot (e.g., 30 to 70)\n",
    "\n",
    "If the Binder server stopped/disconnected you can restart it from the GitHub link \n",
    "\n",
    "https://github.com/chernov-lab/LJHS-Biomed-Path\n",
    "\n",
    "**Do not forget to download your result files**\n",
    "\n",
    "\n",
    "(optional) repeat alignments with the following proteins: \n",
    "\n",
    "enter \"Metalloproteinase inhibitor 2\" as **Protein name [DE]** and choose **Reviewed** entries\n",
    "\n",
    "enter \"Metalloproteinase inhibitor 3\" as **Protein name [DE]** and choose **Reviewed** entries\n",
    "\n",
    "enter \"Metalloproteinase inhibitor 4\" as **Protein name [DE]** and choose **Reviewed** entries\n",
    "\n",
    "Can you make conclusion about evolutionary conservation of Timp proteins? "
   ]
  },
  {
   "cell_type": "markdown",
   "metadata": {},
   "source": [
    "## Try exploring other proteins of your choise"
   ]
  },
  {
   "cell_type": "code",
   "execution_count": null,
   "metadata": {},
   "outputs": [],
   "source": []
  }
 ],
 "metadata": {
  "kernelspec": {
   "display_name": "Python 3 (ipykernel)",
   "language": "python",
   "name": "python3"
  },
  "language_info": {
   "codemirror_mode": {
    "name": "ipython",
    "version": 3
   },
   "file_extension": ".py",
   "mimetype": "text/x-python",
   "name": "python",
   "nbconvert_exporter": "python",
   "pygments_lexer": "ipython3",
   "version": "3.9.10"
  }
 },
 "nbformat": 4,
 "nbformat_minor": 4
}
